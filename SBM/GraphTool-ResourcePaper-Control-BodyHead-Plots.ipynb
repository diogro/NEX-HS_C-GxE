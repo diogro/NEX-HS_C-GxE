{
 "cells": [
  {
   "cell_type": "code",
   "execution_count": 1,
   "id": "df803145",
   "metadata": {},
   "outputs": [],
   "source": [
    "import os\n",
    "os.environ[\"OMP_NUM_THREADS\"] = \"32\""
   ]
  },
  {
   "cell_type": "code",
   "execution_count": 3,
   "id": "acquired-history",
   "metadata": {},
   "outputs": [],
   "source": [
    "from graph_tool.all import *\n",
    "import pandas as pd\n",
    "import numpy as np\n",
    "import scipy as sp\n",
    "from sklearn.covariance import LedoitWolf, OAS\n",
    "import matplotlib.pyplot as plt\n",
    "import matplotlib.cm as mpl\n",
    "import seaborn as sns\n",
    "import statsmodels.api as sm\n",
    "from multipy.fdr import qvalue\n",
    "from multipy.fdr import lsu\n",
    "\n",
    "import dill\n",
    "\n",
    "import fit_sbm\n",
    "import trim_networks\n",
    "import export_blocks"
   ]
  },
  {
   "cell_type": "code",
   "execution_count": 9,
   "id": "0ce9ba7f",
   "metadata": {},
   "outputs": [],
   "source": [
    "with open (\"../data/output/SBM/clustering/body_weights-spearman_fdr-1e-03_mcmc_mode_hierarchical-SBM.dill\", \"rb\") as fh:\n",
    "    bs_body = dill.load(fh)\n",
    "bs_body = bs_body[0:5]"
   ]
  },
  {
   "cell_type": "code",
   "execution_count": 12,
   "id": "d7ff1808",
   "metadata": {},
   "outputs": [],
   "source": [
    "gf_body = load_graph(\"../data/output/SBM/graphs/body_fdrLevel-0.001_genes-5124_density-0.059.xml.gz\")\n",
    "corr = gf_body.edge_properties[\"spearman\"]\n",
    "\n",
    "gf_body.ep.z_s = gf_body.new_edge_property(\"double\", (2*np.arctanh(corr.a)))\n",
    "\n",
    "block_df_body = pd.read_csv(\"../data/output/SBM/clustering/body_weights-spearman_fdr-1e-03_mcmc_mode_hierarchical-SBM.csv\")\n",
    "\n",
    "state_body = minimize_nested_blockmodel_dl(gf_body, init_bs=bs_body, \n",
    "                                      state_args=dict(recs=[gf_body.ep.z_s],\n",
    "                                                      rec_types=[\"real-normal\"]))"
   ]
  },
  {
   "cell_type": "code",
   "execution_count": 13,
   "id": "63f7a0fb",
   "metadata": {},
   "outputs": [],
   "source": [
    "with open (\"../data/output/SBM/clustering/head_weights-spearman_fdr-1e-02_mcmc_mode_hierarchical-SBM.dill\", \"rb\") as fh:\n",
    "    bs_head = dill.load(fh)\n",
    "bs_head = bs_head[0:5]"
   ]
  },
  {
   "cell_type": "code",
   "execution_count": 14,
   "id": "f1f62b63",
   "metadata": {},
   "outputs": [],
   "source": [
    "gf_head = load_graph(\"../data/output/SBM/graphs/head_fdrLevel-0.01_genes-5261_density-0.033.xml.gz\")\n",
    "corr = gf_head.edge_properties[\"spearman\"]\n",
    "\n",
    "gf_head.ep.z_s = gf_head.new_edge_property(\"double\", (2*np.arctanh(corr.a)))\n",
    "\n",
    "block_df_head = pd.read_csv(\"../data/output/SBM/clustering/head_weights-spearman_fdr-1e-02_mcmc_mode_hierarchical-SBM.csv\")\n",
    "\n",
    "state_head = minimize_nested_blockmodel_dl(gf_head, init_bs=bs_head, \n",
    "                                      state_args=dict(recs=[gf_head.ep.z_s],\n",
    "                                                      rec_types=[\"real-normal\"]))"
   ]
  },
  {
   "cell_type": "code",
   "execution_count": null,
   "id": "60cc334d",
   "metadata": {
    "scrolled": true
   },
   "outputs": [],
   "source": [
    "for i in set(state_head.get_bs()[1]):\n",
    "    is_block_1 = state_head.get_bs()[1][state_head.get_bs()[0]] == i\n",
    "    is_block_1 = np.array(is_block_1) + 1\n",
    "    gf_head.vp.show_vertex = gf_head.new_vertex_property(\"double\", (is_block_1 - 1) * 10 + 1)\n",
    "        \n",
    "    state_head.draw(edge_color=prop_to_size(gf_head.ep.z_s, mi=-4, ma=4, power=1, log=False),\n",
    "                    ecmap=(mpl.inferno, .6), edge_gradient=[], \n",
    "                    vertex_size = 4,\n",
    "                    hvertex_size = 10,\n",
    "                    hedge_pen_width = 2,\n",
    "                    #vertex_text = state_head.get_bs()[0], \n",
    "                    vertex_color = gf_head.vp.show_vertex,\n",
    "                    vertex_fill_color = gf_head.vp.show_vertex,\n",
    "                    eorder=gf_head.ep.z_s,\n",
    "                    subsample_edges = 30000,\n",
    "                    output = \"../data/output/SBM/guide_plots/head/fdr-1e-02/\" + str(i).zfill(2) + \".png\") \n",
    "\n",
    "gf_head.vp.level_1 = gf_head.new_vertex_property(\"double\", state_head.get_bs()[1][state_head.get_bs()[0]])\n",
    "state_head.draw(\n",
    "            eorder=gf_head.ep.z_s,\n",
    "            #edge_pen_width = gf_head.ep.z_s,\n",
    "            edge_color=prop_to_size(gf_head.ep.z_s, mi=-4, ma=4, power=1, log=False),\n",
    "            ecmap=(mpl.inferno, .6), \n",
    "            edge_gradient=[], \n",
    "            vertex_size = 4,\n",
    "            hvertex_size = 10,\n",
    "            hedge_pen_width = 2,\n",
    "            vertex_color = gf_head.vp.level_1,\n",
    "            vertex_fill_color = gf_head.vp.level_1,\n",
    "            subsample_edges = 30000,\n",
    "            output = \"../data/output/SBM/guide_plots/head/fdr-1e-02/full_plot.png\")"
   ]
  },
  {
   "cell_type": "code",
   "execution_count": null,
   "id": "7aba0021",
   "metadata": {},
   "outputs": [],
   "source": [
    "for i in set(state_body.get_bs()[1]):\n",
    "    is_block_1 = state_body.get_bs()[1][state_body.get_bs()[0]] == i\n",
    "    is_block_1 = np.array(is_block_1) + 1\n",
    "    gf_body.vp.show_vertex = gf_body.new_vertex_property(\"double\", (is_block_1 - 1) * 10 + 1)\n",
    "        \n",
    "    state_body.draw(edge_color=prop_to_size(gf_body.ep.z_s, mi=-4, ma=4, power=1, log=False),\n",
    "                    ecmap=(mpl.inferno, .6), edge_gradient=[], \n",
    "                    vertex_size = 4,\n",
    "                    hvertex_size = 10,\n",
    "                    hedge_pen_width = 2,\n",
    "                    #vertex_text = state_body.get_bs()[0], \n",
    "                    vertex_color = gf_body.vp.show_vertex,\n",
    "                    vertex_fill_color = gf_body.vp.show_vertex,\n",
    "                    eorder=gf_body.ep.z_s,\n",
    "                    subsample_edges = 30000,\n",
    "                    output = \"../data/output/SBM/guide_plots/body/fdr-1e-03/\" + str(i).zfill(2) + \".png\") \n",
    "\n",
    "gf_body.vp.level_1 = gf_body.new_vertex_property(\"double\", state_body.get_bs()[1][state_body.get_bs()[0]])\n",
    "state_body.draw(\n",
    "            eorder=gf_body.ep.z_s,\n",
    "            #edge_pen_width = gf_body.ep.z_s,\n",
    "            edge_color=prop_to_size(gf_body.ep.z_s, mi=-4, ma=4, power=1, log=False),\n",
    "            ecmap=(mpl.inferno, .6), \n",
    "            edge_gradient=[], \n",
    "            vertex_size = 4,\n",
    "            hvertex_size = 10,\n",
    "            hedge_pen_width = 2,\n",
    "            vertex_color = gf_body.vp.level_1,\n",
    "            vertex_fill_color = gf_body.vp.level_1,\n",
    "            subsample_edges = 30000,\n",
    "            output = \"../data/output/SBM/guide_plots/body/fdr-1e-03/full_plot.png\")"
   ]
  }
 ],
 "metadata": {
  "kernelspec": {
   "display_name": "Python 3 (ipykernel)",
   "language": "python",
   "name": "python3"
  },
  "language_info": {
   "codemirror_mode": {
    "name": "ipython",
    "version": 3
   },
   "file_extension": ".py",
   "mimetype": "text/x-python",
   "name": "python",
   "nbconvert_exporter": "python",
   "pygments_lexer": "ipython3",
   "version": "3.10.2"
  }
 },
 "nbformat": 4,
 "nbformat_minor": 5
}
