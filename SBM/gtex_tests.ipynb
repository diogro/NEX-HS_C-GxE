{
 "cells": [
  {
   "cell_type": "code",
   "execution_count": 2,
   "metadata": {},
   "outputs": [],
   "source": [
    "import os\n",
    "os.environ[\"OMP_NUM_THREADS\"] = \"32\""
   ]
  },
  {
   "cell_type": "code",
   "execution_count": 3,
   "metadata": {},
   "outputs": [],
   "source": [
    "from graph_tool.all import *\n",
    "import pandas as pd\n",
    "import numpy as np\n",
    "import scipy as sp\n",
    "from sklearn.covariance import LedoitWolf, OAS\n",
    "import matplotlib.pyplot as plt\n",
    "import matplotlib.cm as mpl\n",
    "\n",
    "\n",
    "import statsmodels.api as sm\n",
    "from multipy.fdr import qvalue\n",
    "from multipy.fdr import lsu\n",
    "\n",
    "import dill\n",
    "\n",
    "import fit_sbm\n",
    "import trim_networks\n",
    "import export_blocks"
   ]
  },
  {
   "cell_type": "code",
   "execution_count": 5,
   "metadata": {},
   "outputs": [],
   "source": [
    " g = load_graph(\"../data/output/SBM/gtex/trimmed_graph/fdr-1e-5/14_TESTIS.xml.gz\")"
   ]
  },
  {
   "cell_type": "code",
   "execution_count": 6,
   "metadata": {},
   "outputs": [
    {
     "data": {
      "text/plain": [
       "<Graph object, undirected, with 5917 vertices and 5030767 edges, 2 internal vertex properties, 2 internal edge properties, at 0x7f020d190490>"
      ]
     },
     "execution_count": 6,
     "metadata": {},
     "output_type": "execute_result"
    }
   ],
   "source": [
    "g"
   ]
  },
  {
   "cell_type": "code",
   "execution_count": 8,
   "metadata": {},
   "outputs": [
    {
     "name": "stdout",
     "output_type": "stream",
     "text": [
      "5917 genes\n",
      "Density: 0.2874315682926414\n"
     ]
    }
   ],
   "source": [
    "N = len(g.get_vertices())\n",
    "print(str(N) + \" genes\")\n",
    "Et = (N * N - N)/2\n",
    "E = len(g.get_edges())\n",
    "density = E/Et        \n",
    "print(\"Density: \" + str(density))"
   ]
  },
  {
   "cell_type": "code",
   "execution_count": 10,
   "metadata": {},
   "outputs": [],
   "source": [
    "corr = g.edge_properties[\"spearman\"]\n",
    "corr\n",
    "g.ep.z_s = g.new_edge_property(\"double\", (2*np.arctanh(corr.a)))"
   ]
  },
  {
   "cell_type": "code",
   "execution_count": 40,
   "metadata": {},
   "outputs": [],
   "source": [
    "state_min = minimize_nested_blockmodel_dl(gi, init_bs=None,\n",
    "                                          state_args=dict(recs=[gi.ep.z_s],\n",
    "                                          rec_types=[\"real-normal\"]))"
   ]
  },
  {
   "cell_type": "code",
   "execution_count": 42,
   "metadata": {},
   "outputs": [
    {
     "name": "stdout",
     "output_type": "stream",
     "text": [
      "Starting annealing...\n",
      "Improvement from annealing: -2846369.330363484\n",
      "Final entropy after annealing: 14586723.511638353\n"
     ]
    }
   ],
   "source": [
    "S1 = state_min.entropy()\n",
    "print(\"Starting annealing...\")\n",
    "mcmc_anneal(state_min, beta_range=(1, 10), niter=100,\n",
    "            mcmc_equilibrate_args=dict(force_niter=100))\n",
    "S2 = state_min.entropy()\n",
    "print(\"Improvement from annealing:\", S2 - S1)\n",
    "print(\"Final entropy after annealing: \" + str(state_min.entropy()))"
   ]
  },
  {
   "cell_type": "code",
   "execution_count": null,
   "metadata": {},
   "outputs": [],
   "source": [
    "state_min.draw()"
   ]
  }
 ],
 "metadata": {
  "interpreter": {
   "hash": "31f2aee4e71d21fbe5cf8b01ff0e069b9275f58929596ceb00d14d90e3e16cd6"
  },
  "kernelspec": {
   "display_name": "Python 3.6.8 64-bit",
   "language": "python",
   "name": "python3"
  },
  "language_info": {
   "codemirror_mode": {
    "name": "ipython",
    "version": 3
   },
   "file_extension": ".py",
   "mimetype": "text/x-python",
   "name": "python",
   "nbconvert_exporter": "python",
   "pygments_lexer": "ipython3",
   "version": "3.9.9"
  },
  "orig_nbformat": 4
 },
 "nbformat": 4,
 "nbformat_minor": 2
}
