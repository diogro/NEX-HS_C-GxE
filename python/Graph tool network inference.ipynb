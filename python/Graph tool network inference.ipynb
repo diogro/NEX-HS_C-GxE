{
 "cells": [
  {
   "cell_type": "code",
   "execution_count": 2,
   "id": "5562ea77",
   "metadata": {},
   "outputs": [
    {
     "name": "stderr",
     "output_type": "stream",
     "text": [
      "/home/diogro/projects/NEX-HS_C-GxE/graphtool/.venv/lib/python3.9/site-packages/graph_tool/draw/cairo_draw.py:1501: RuntimeWarning: Error importing Gtk module: No module named 'gi'; GTK+ drawing will not work.\n",
      "  warnings.warn(msg, RuntimeWarning)\n"
     ]
    }
   ],
   "source": [
    "from graph_tool.all import *\n",
    "import pandas as pd\n",
    "import numpy as np\n",
    "import scipy as sp\n",
    "import matplotlib as mp\n",
    "import statsmodels.api as sm"
   ]
  },
  {
   "cell_type": "code",
   "execution_count": 4,
   "id": "5c87f2ae",
   "metadata": {},
   "outputs": [],
   "source": [
    "    gene_expr = pd.read_table(\"../data/RawCounts_CPM1_head_hsctrl_onlyGEMMAsamples_Mar21.21.txt\")"
   ]
  },
  {
   "cell_type": "code",
   "execution_count": 5,
   "id": "62c2734a",
   "metadata": {},
   "outputs": [
    {
     "data": {
      "text/html": [
       "<div>\n",
       "<style scoped>\n",
       "    .dataframe tbody tr th:only-of-type {\n",
       "        vertical-align: middle;\n",
       "    }\n",
       "\n",
       "    .dataframe tbody tr th {\n",
       "        vertical-align: top;\n",
       "    }\n",
       "\n",
       "    .dataframe thead th {\n",
       "        text-align: right;\n",
       "    }\n",
       "</style>\n",
       "<table border=\"1\" class=\"dataframe\">\n",
       "  <thead>\n",
       "    <tr style=\"text-align: right;\">\n",
       "      <th></th>\n",
       "      <th>106_B2</th>\n",
       "      <th>106_B7</th>\n",
       "      <th>106_B9</th>\n",
       "      <th>106_C12</th>\n",
       "      <th>106_A10</th>\n",
       "      <th>106_C4</th>\n",
       "      <th>106_C6</th>\n",
       "      <th>106_C7</th>\n",
       "      <th>106_D11</th>\n",
       "      <th>106_D2</th>\n",
       "      <th>...</th>\n",
       "      <th>98_F5</th>\n",
       "      <th>98_F9</th>\n",
       "      <th>98_G12</th>\n",
       "      <th>98_G5</th>\n",
       "      <th>98_G6</th>\n",
       "      <th>98_G8</th>\n",
       "      <th>98_H11</th>\n",
       "      <th>98_H12</th>\n",
       "      <th>98_H4</th>\n",
       "      <th>98_H5</th>\n",
       "    </tr>\n",
       "  </thead>\n",
       "  <tbody>\n",
       "    <tr>\n",
       "      <th>FBgn0031081</th>\n",
       "      <td>205</td>\n",
       "      <td>172</td>\n",
       "      <td>94</td>\n",
       "      <td>102</td>\n",
       "      <td>184</td>\n",
       "      <td>203</td>\n",
       "      <td>263</td>\n",
       "      <td>12</td>\n",
       "      <td>102</td>\n",
       "      <td>187</td>\n",
       "      <td>...</td>\n",
       "      <td>268</td>\n",
       "      <td>83</td>\n",
       "      <td>107</td>\n",
       "      <td>28</td>\n",
       "      <td>117</td>\n",
       "      <td>271</td>\n",
       "      <td>93</td>\n",
       "      <td>55</td>\n",
       "      <td>18</td>\n",
       "      <td>87</td>\n",
       "    </tr>\n",
       "    <tr>\n",
       "      <th>FBgn0031080</th>\n",
       "      <td>38</td>\n",
       "      <td>23</td>\n",
       "      <td>22</td>\n",
       "      <td>6</td>\n",
       "      <td>50</td>\n",
       "      <td>27</td>\n",
       "      <td>53</td>\n",
       "      <td>12</td>\n",
       "      <td>17</td>\n",
       "      <td>45</td>\n",
       "      <td>...</td>\n",
       "      <td>97</td>\n",
       "      <td>10</td>\n",
       "      <td>34</td>\n",
       "      <td>44</td>\n",
       "      <td>14</td>\n",
       "      <td>74</td>\n",
       "      <td>24</td>\n",
       "      <td>12</td>\n",
       "      <td>9</td>\n",
       "      <td>18</td>\n",
       "    </tr>\n",
       "    <tr>\n",
       "      <th>FBgn0053217</th>\n",
       "      <td>16</td>\n",
       "      <td>42</td>\n",
       "      <td>1</td>\n",
       "      <td>13</td>\n",
       "      <td>6</td>\n",
       "      <td>33</td>\n",
       "      <td>11</td>\n",
       "      <td>3</td>\n",
       "      <td>0</td>\n",
       "      <td>3</td>\n",
       "      <td>...</td>\n",
       "      <td>19</td>\n",
       "      <td>11</td>\n",
       "      <td>0</td>\n",
       "      <td>0</td>\n",
       "      <td>8</td>\n",
       "      <td>10</td>\n",
       "      <td>5</td>\n",
       "      <td>0</td>\n",
       "      <td>0</td>\n",
       "      <td>0</td>\n",
       "    </tr>\n",
       "    <tr>\n",
       "      <th>FBgn0052350</th>\n",
       "      <td>55</td>\n",
       "      <td>245</td>\n",
       "      <td>65</td>\n",
       "      <td>40</td>\n",
       "      <td>78</td>\n",
       "      <td>73</td>\n",
       "      <td>73</td>\n",
       "      <td>0</td>\n",
       "      <td>27</td>\n",
       "      <td>60</td>\n",
       "      <td>...</td>\n",
       "      <td>79</td>\n",
       "      <td>22</td>\n",
       "      <td>25</td>\n",
       "      <td>58</td>\n",
       "      <td>14</td>\n",
       "      <td>100</td>\n",
       "      <td>18</td>\n",
       "      <td>8</td>\n",
       "      <td>8</td>\n",
       "      <td>11</td>\n",
       "    </tr>\n",
       "    <tr>\n",
       "      <th>FBgn0024733</th>\n",
       "      <td>9380</td>\n",
       "      <td>20977</td>\n",
       "      <td>5244</td>\n",
       "      <td>4331</td>\n",
       "      <td>5731</td>\n",
       "      <td>11636</td>\n",
       "      <td>19831</td>\n",
       "      <td>483</td>\n",
       "      <td>6205</td>\n",
       "      <td>6918</td>\n",
       "      <td>...</td>\n",
       "      <td>24742</td>\n",
       "      <td>8670</td>\n",
       "      <td>8070</td>\n",
       "      <td>2746</td>\n",
       "      <td>4459</td>\n",
       "      <td>15867</td>\n",
       "      <td>3568</td>\n",
       "      <td>1512</td>\n",
       "      <td>3069</td>\n",
       "      <td>5130</td>\n",
       "    </tr>\n",
       "    <tr>\n",
       "      <th>...</th>\n",
       "      <td>...</td>\n",
       "      <td>...</td>\n",
       "      <td>...</td>\n",
       "      <td>...</td>\n",
       "      <td>...</td>\n",
       "      <td>...</td>\n",
       "      <td>...</td>\n",
       "      <td>...</td>\n",
       "      <td>...</td>\n",
       "      <td>...</td>\n",
       "      <td>...</td>\n",
       "      <td>...</td>\n",
       "      <td>...</td>\n",
       "      <td>...</td>\n",
       "      <td>...</td>\n",
       "      <td>...</td>\n",
       "      <td>...</td>\n",
       "      <td>...</td>\n",
       "      <td>...</td>\n",
       "      <td>...</td>\n",
       "      <td>...</td>\n",
       "    </tr>\n",
       "    <tr>\n",
       "      <th>FBgn0031309</th>\n",
       "      <td>25</td>\n",
       "      <td>66</td>\n",
       "      <td>9</td>\n",
       "      <td>6</td>\n",
       "      <td>18</td>\n",
       "      <td>16</td>\n",
       "      <td>44</td>\n",
       "      <td>3</td>\n",
       "      <td>8</td>\n",
       "      <td>9</td>\n",
       "      <td>...</td>\n",
       "      <td>24</td>\n",
       "      <td>23</td>\n",
       "      <td>6</td>\n",
       "      <td>7</td>\n",
       "      <td>0</td>\n",
       "      <td>3</td>\n",
       "      <td>3</td>\n",
       "      <td>12</td>\n",
       "      <td>10</td>\n",
       "      <td>16</td>\n",
       "    </tr>\n",
       "    <tr>\n",
       "      <th>FBgn0031305</th>\n",
       "      <td>91</td>\n",
       "      <td>99</td>\n",
       "      <td>46</td>\n",
       "      <td>74</td>\n",
       "      <td>78</td>\n",
       "      <td>126</td>\n",
       "      <td>125</td>\n",
       "      <td>2</td>\n",
       "      <td>64</td>\n",
       "      <td>79</td>\n",
       "      <td>...</td>\n",
       "      <td>410</td>\n",
       "      <td>67</td>\n",
       "      <td>107</td>\n",
       "      <td>6</td>\n",
       "      <td>30</td>\n",
       "      <td>124</td>\n",
       "      <td>77</td>\n",
       "      <td>18</td>\n",
       "      <td>42</td>\n",
       "      <td>40</td>\n",
       "    </tr>\n",
       "    <tr>\n",
       "      <th>FBgn0016926</th>\n",
       "      <td>1131</td>\n",
       "      <td>1006</td>\n",
       "      <td>944</td>\n",
       "      <td>592</td>\n",
       "      <td>1230</td>\n",
       "      <td>2007</td>\n",
       "      <td>2325</td>\n",
       "      <td>221</td>\n",
       "      <td>892</td>\n",
       "      <td>956</td>\n",
       "      <td>...</td>\n",
       "      <td>1528</td>\n",
       "      <td>370</td>\n",
       "      <td>1065</td>\n",
       "      <td>773</td>\n",
       "      <td>506</td>\n",
       "      <td>1481</td>\n",
       "      <td>294</td>\n",
       "      <td>305</td>\n",
       "      <td>219</td>\n",
       "      <td>117</td>\n",
       "    </tr>\n",
       "    <tr>\n",
       "      <th>FBgn0031299</th>\n",
       "      <td>6</td>\n",
       "      <td>10</td>\n",
       "      <td>36</td>\n",
       "      <td>6</td>\n",
       "      <td>25</td>\n",
       "      <td>16</td>\n",
       "      <td>3</td>\n",
       "      <td>25</td>\n",
       "      <td>4</td>\n",
       "      <td>2</td>\n",
       "      <td>...</td>\n",
       "      <td>4</td>\n",
       "      <td>10</td>\n",
       "      <td>0</td>\n",
       "      <td>0</td>\n",
       "      <td>10</td>\n",
       "      <td>4</td>\n",
       "      <td>5</td>\n",
       "      <td>0</td>\n",
       "      <td>0</td>\n",
       "      <td>0</td>\n",
       "    </tr>\n",
       "    <tr>\n",
       "      <th>FBgn0003310</th>\n",
       "      <td>65</td>\n",
       "      <td>188</td>\n",
       "      <td>52</td>\n",
       "      <td>57</td>\n",
       "      <td>137</td>\n",
       "      <td>65</td>\n",
       "      <td>133</td>\n",
       "      <td>41</td>\n",
       "      <td>70</td>\n",
       "      <td>91</td>\n",
       "      <td>...</td>\n",
       "      <td>229</td>\n",
       "      <td>50</td>\n",
       "      <td>82</td>\n",
       "      <td>30</td>\n",
       "      <td>35</td>\n",
       "      <td>174</td>\n",
       "      <td>25</td>\n",
       "      <td>20</td>\n",
       "      <td>22</td>\n",
       "      <td>70</td>\n",
       "    </tr>\n",
       "  </tbody>\n",
       "</table>\n",
       "<p>8786 rows × 1975 columns</p>\n",
       "</div>"
      ],
      "text/plain": [
       "             106_B2  106_B7  106_B9  106_C12  106_A10  106_C4  106_C6  106_C7  \\\n",
       "FBgn0031081     205     172      94      102      184     203     263      12   \n",
       "FBgn0031080      38      23      22        6       50      27      53      12   \n",
       "FBgn0053217      16      42       1       13        6      33      11       3   \n",
       "FBgn0052350      55     245      65       40       78      73      73       0   \n",
       "FBgn0024733    9380   20977    5244     4331     5731   11636   19831     483   \n",
       "...             ...     ...     ...      ...      ...     ...     ...     ...   \n",
       "FBgn0031309      25      66       9        6       18      16      44       3   \n",
       "FBgn0031305      91      99      46       74       78     126     125       2   \n",
       "FBgn0016926    1131    1006     944      592     1230    2007    2325     221   \n",
       "FBgn0031299       6      10      36        6       25      16       3      25   \n",
       "FBgn0003310      65     188      52       57      137      65     133      41   \n",
       "\n",
       "             106_D11  106_D2  ...  98_F5  98_F9  98_G12  98_G5  98_G6  98_G8  \\\n",
       "FBgn0031081      102     187  ...    268     83     107     28    117    271   \n",
       "FBgn0031080       17      45  ...     97     10      34     44     14     74   \n",
       "FBgn0053217        0       3  ...     19     11       0      0      8     10   \n",
       "FBgn0052350       27      60  ...     79     22      25     58     14    100   \n",
       "FBgn0024733     6205    6918  ...  24742   8670    8070   2746   4459  15867   \n",
       "...              ...     ...  ...    ...    ...     ...    ...    ...    ...   \n",
       "FBgn0031309        8       9  ...     24     23       6      7      0      3   \n",
       "FBgn0031305       64      79  ...    410     67     107      6     30    124   \n",
       "FBgn0016926      892     956  ...   1528    370    1065    773    506   1481   \n",
       "FBgn0031299        4       2  ...      4     10       0      0     10      4   \n",
       "FBgn0003310       70      91  ...    229     50      82     30     35    174   \n",
       "\n",
       "             98_H11  98_H12  98_H4  98_H5  \n",
       "FBgn0031081      93      55     18     87  \n",
       "FBgn0031080      24      12      9     18  \n",
       "FBgn0053217       5       0      0      0  \n",
       "FBgn0052350      18       8      8     11  \n",
       "FBgn0024733    3568    1512   3069   5130  \n",
       "...             ...     ...    ...    ...  \n",
       "FBgn0031309       3      12     10     16  \n",
       "FBgn0031305      77      18     42     40  \n",
       "FBgn0016926     294     305    219    117  \n",
       "FBgn0031299       5       0      0      0  \n",
       "FBgn0003310      25      20     22     70  \n",
       "\n",
       "[8786 rows x 1975 columns]"
      ]
     },
     "execution_count": 5,
     "metadata": {},
     "output_type": "execute_result"
    }
   ],
   "source": [
    "gene_expr"
   ]
  },
  {
   "cell_type": "code",
   "execution_count": 6,
   "id": "bbd205b2",
   "metadata": {},
   "outputs": [],
   "source": [
    "### Input covariates\n",
    "\n",
    "covariates = pd.read_table(\"../data/GXEpaper/Covariates_forGEMMA_Jan82021.txt\", sep = \",\")\n",
    "ID_C = covariates.query('treatment == 1')[\"ID\"]\n",
    "ID_HS = covariates.query('treatment == 1')[\"ID\"]\n",
    "\n",
    "### Separating gene expressions\n",
    "gene_expr_dict = {\"C\": gene_expr[ID_C].T, \"HS\": gene_expr[ID_HS].T}"
   ]
  },
  {
   "cell_type": "code",
   "execution_count": 9,
   "id": "39521778",
   "metadata": {},
   "outputs": [],
   "source": [
    "max_row = gene_expr_dict[\"C\"].max(axis=1)"
   ]
  },
  {
   "cell_type": "code",
   "execution_count": 11,
   "id": "a5113daa",
   "metadata": {},
   "outputs": [],
   "source": [
    "sum_row = gene_expr_dict[\"C\"].sum(axis=1)"
   ]
  },
  {
   "cell_type": "code",
   "execution_count": 198,
   "id": "85edea22",
   "metadata": {},
   "outputs": [],
   "source": [
    "g = Graph(directed=False)\n",
    "n_genes = 100 #gene_expr_corr[\"C\"].shape[1]\n",
    "n_samples = 100\n",
    "g.add_vertex(n = n_genes)\n",
    "g.add_vertex(n = n_samples)\n",
    "g.vertex_properties[\"isGene\"] = g.new_vp(\"bool\", True)"
   ]
  },
  {
   "cell_type": "code",
   "execution_count": 199,
   "id": "ad4f56fd",
   "metadata": {},
   "outputs": [],
   "source": [
    "isGene = g.vertex_properties[\"isGene\"]\n",
    "for v in g.vertices():\n",
    "    if(v > n_genes):\n",
    "        isGene[v] = False"
   ]
  },
  {
   "cell_type": "code",
   "execution_count": 203,
   "id": "07454797",
   "metadata": {},
   "outputs": [],
   "source": [
    "n = g.new_ep(\"int\", 0)   # number of measurements\n",
    "x = g.new_ep(\"int\", 0)   # number of observations\n",
    "ew = g.new_ep(\"int\", val=0) # a propriedade zen de ser o nada\n",
    "array_expr = np.array(gene_expr_dict[\"C\"])\n",
    "for i in range(n_samples):\n",
    "    for j in range(n_genes):\n",
    "        g.add_edge(i + n_genes, j)\n",
    "        e = g.edge(i + n_genes, j)\n",
    "        x[e] = array_expr[i][j]\n",
    "        n[e] = sum_row[j]\n"
   ]
  },
  {
   "cell_type": "code",
   "execution_count": 201,
   "id": "49aafac0",
   "metadata": {},
   "outputs": [],
   "source": [
    "n_0 = sum_row.median().astype(int)\n",
    "x_0 = 0 #array_expr[1:n_samples, 1:n_genes].median().astype(int)"
   ]
  },
  {
   "cell_type": "code",
   "execution_count": 204,
   "id": "a0850d34",
   "metadata": {},
   "outputs": [
    {
     "data": {
      "text/plain": [
       "(34969959.31247448, 15030299, 3532885)"
      ]
     },
     "execution_count": 204,
     "metadata": {},
     "output_type": "execute_result"
    }
   ],
   "source": [
    "state = MixedMeasuredBlockState(g, n=n, n_default=n_0, x=x, x_default=x_0, state_args=dict(eweight=ew))\n",
    "mcmc_equilibrate(state, wait=200, mcmc_args=dict(niter=10))"
   ]
  },
  {
   "cell_type": "code",
   "execution_count": 205,
   "id": "d9b30476",
   "metadata": {},
   "outputs": [
    {
     "data": {
      "text/plain": [
       "(35090416.411092326, 24481260, 5707195)"
      ]
     },
     "execution_count": 205,
     "metadata": {},
     "output_type": "execute_result"
    }
   ],
   "source": [
    "u = None              # marginal posterior edge probabilities\n",
    "bs = []               # partitions\n",
    "cs = []               # average local clustering coefficient\n",
    "\n",
    "def collect_marginals(s):\n",
    "   global u, bs, cs\n",
    "   u = s.collect_marginal(u)\n",
    "   bstate = s.get_block_state()\n",
    "   bs.append(bstate.levels[0].b.a.copy())\n",
    "   cs.append(local_clustering(s.get_graph()).fa.mean())\n",
    "\n",
    "mcmc_equilibrate(state, force_niter=2000, mcmc_args=dict(niter=10),\n",
    "                 callback=collect_marginals)"
   ]
  },
  {
   "cell_type": "code",
   "execution_count": 195,
   "id": "2881c170",
   "metadata": {},
   "outputs": [
    {
     "data": {
      "text/plain": [
       "<AxesSubplot:>"
      ]
     },
     "execution_count": 195,
     "metadata": {},
     "output_type": "execute_result"
    },
    {
     "data": {
      "image/png": "[encoded data removed]",
      "text/plain": [
       "<Figure size 432x288 with 1 Axes>"
      ]
     },
     "metadata": {},
     "output_type": "display_data"
    }
   ],
   "source": [
    "import seaborn as sns\n",
    "\n",
    "sns.set_style('darkgrid')\n",
    "sns.histplot(u.ep.eprob.fa)"
   ]
  },
  {
   "cell_type": "code",
   "execution_count": 197,
   "id": "a954ea6d",
   "metadata": {},
   "outputs": [
    {
     "data": {
      "text/plain": [
       "PropertyArray([], dtype=float64)"
      ]
     },
     "execution_count": 197,
     "metadata": {},
     "output_type": "execute_result"
    }
   ],
   "source": [
    "u.ep.eprob.fa"
   ]
  },
  {
   "cell_type": "code",
   "execution_count": 156,
   "id": "e83ff51e",
   "metadata": {},
   "outputs": [],
   "source": [
    "u = GraphView(u, efilt=u.ep.eprob.fa > .5)\n"
   ]
  },
  {
   "cell_type": "code",
   "execution_count": 157,
   "id": "6f0fc097",
   "metadata": {},
   "outputs": [
    {
     "data": {
      "image/png": "[encoded data removed]",
      "text/plain": [
       "<IPython.core.display.Image object>"
      ]
     },
     "metadata": {
      "image/png": {
       "height": 600,
       "width": 435
      }
     },
     "output_type": "display_data"
    },
    {
     "data": {
      "text/plain": [
       "<VertexPropertyMap object with value type 'vector<double>', for Graph 0x7f84d50f3400, at 0x7f84d50faee0>"
      ]
     },
     "execution_count": 157,
     "metadata": {},
     "output_type": "execute_result"
    }
   ],
   "source": [
    "bstate = state.get_block_state()\n",
    "bstate = bstate.levels[0].copy(g=u)\n",
    "\n",
    "# Disambiguate partitions and obtain marginals\n",
    "pmode = PartitionModeState(bs, converge=True)\n",
    "pv = pmode.get_marginal(u)\n",
    "\n",
    "bstate.draw(vertex_shape=\"pie\", vertex_pie_fractions=pv)"
   ]
  }
 ],
 "metadata": {
  "kernelspec": {
   "display_name": "Python 3",
   "language": "python",
   "name": "python3"
  },
  "language_info": {
   "codemirror_mode": {
    "name": "ipython",
    "version": 3
   },
   "file_extension": ".py",
   "mimetype": "text/x-python",
   "name": "python",
   "nbconvert_exporter": "python",
   "pygments_lexer": "ipython3",
   "version": "3.9.2"
  }
 },
 "nbformat": 4,
 "nbformat_minor": 5
}
